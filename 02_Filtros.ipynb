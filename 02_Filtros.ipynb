{
 "cells": [
  {
   "cell_type": "markdown",
   "id": "c6cb2a4b",
   "metadata": {},
   "source": [
    "# Filtrar detecciones "
   ]
  },
  {
   "cell_type": "code",
   "execution_count": 43,
   "id": "68b31aeb",
   "metadata": {},
   "outputs": [
    {
     "name": "stdout",
     "output_type": "stream",
     "text": [
      "Número de especies: 318\n",
      "Número de proyectos: 2\n"
     ]
    }
   ],
   "source": [
    "import os\n",
    "import pandas as pd\n",
    "import matplotlib.pyplot as plt\n",
    "\n",
    "# Leer todos las detecciones para luego fusionarlas\n",
    "folder_path = \"./Detecciones_estandarizadas\"\n",
    "csv_files = [f for f in os.listdir(folder_path) if f.endswith('.csv')]\n",
    "dfs = [pd.read_csv(os.path.join(folder_path, f)) for f in csv_files]\n",
    "df_concat = pd.concat(dfs, ignore_index=True)\n",
    "\n",
    "# Número de especies y proyectos\n",
    "print(f\"Número de especies: {df_concat['speciesName'].nunique()}\")\n",
    "print(f\"Número de proyectos: {df_concat['projectName'].nunique()}\")\n"
   ]
  },
  {
   "cell_type": "markdown",
   "id": "ec983edd",
   "metadata": {},
   "source": [
    "## Filtrar especies objetivo"
   ]
  },
  {
   "cell_type": "code",
   "execution_count": 44,
   "id": "e1ac18bd",
   "metadata": {},
   "outputs": [
    {
     "data": {
      "text/plain": [
       "speciesName\n",
       "Pulsatrix perspicillata       520\n",
       "Zebrilus undulatus            361\n",
       "Ciccaba virgata               321\n",
       "Lophostrix cristata           210\n",
       "Ceratopipra erythrocephala    162\n",
       "Name: count, dtype: int64"
      ]
     },
     "execution_count": 44,
     "metadata": {},
     "output_type": "execute_result"
    }
   ],
   "source": [
    "targets_df = pd.read_csv('/Users/santiagoruiz/Documents/Escuchaton/especies_objetivo.csv')\n",
    "df_concat = df_concat[df_concat['speciesName'].isin(targets_df['Especies'])]\n",
    "\n",
    "# Numero de clips por especie\n",
    "df_concat['speciesName'].value_counts()"
   ]
  },
  {
   "cell_type": "markdown",
   "id": "22218c78",
   "metadata": {},
   "source": [
    "## Filtar por puntaje de deteccion (confidence)\n",
    "\n",
    "En este paso se van a filtrar un numero especifico de detecciones para cada decil de confidece. Es decir, todos los valores de confianza por especie van a agruparse en 10 partes iguales y luego se van a seleccionar de forma aleatoria un numero determinado de detecciones por decil (clips_por_especie_decil)"
   ]
  },
  {
   "cell_type": "code",
   "execution_count": 45,
   "id": "141c297d",
   "metadata": {},
   "outputs": [
    {
     "name": "stderr",
     "output_type": "stream",
     "text": [
      "/var/folders/_6/xzrhlh5s5yd6q142xlf57x4h0000gn/T/ipykernel_75026/3275535847.py:6: DeprecationWarning: DataFrameGroupBy.apply operated on the grouping columns. This behavior is deprecated, and in a future version of pandas the grouping columns will be excluded from the operation. Either pass `include_groups=False` to exclude the groupings or explicitly select the grouping columns after groupby to silence this warning.\n",
      "  sampled = group.groupby('conf_bin').apply(lambda x: x.sample(n=min(clips_por_especie_decil, len(x)), random_state=42)).reset_index(drop=True)\n",
      "/var/folders/_6/xzrhlh5s5yd6q142xlf57x4h0000gn/T/ipykernel_75026/3275535847.py:6: DeprecationWarning: DataFrameGroupBy.apply operated on the grouping columns. This behavior is deprecated, and in a future version of pandas the grouping columns will be excluded from the operation. Either pass `include_groups=False` to exclude the groupings or explicitly select the grouping columns after groupby to silence this warning.\n",
      "  sampled = group.groupby('conf_bin').apply(lambda x: x.sample(n=min(clips_por_especie_decil, len(x)), random_state=42)).reset_index(drop=True)\n",
      "/var/folders/_6/xzrhlh5s5yd6q142xlf57x4h0000gn/T/ipykernel_75026/3275535847.py:6: DeprecationWarning: DataFrameGroupBy.apply operated on the grouping columns. This behavior is deprecated, and in a future version of pandas the grouping columns will be excluded from the operation. Either pass `include_groups=False` to exclude the groupings or explicitly select the grouping columns after groupby to silence this warning.\n",
      "  sampled = group.groupby('conf_bin').apply(lambda x: x.sample(n=min(clips_por_especie_decil, len(x)), random_state=42)).reset_index(drop=True)\n",
      "/var/folders/_6/xzrhlh5s5yd6q142xlf57x4h0000gn/T/ipykernel_75026/3275535847.py:6: DeprecationWarning: DataFrameGroupBy.apply operated on the grouping columns. This behavior is deprecated, and in a future version of pandas the grouping columns will be excluded from the operation. Either pass `include_groups=False` to exclude the groupings or explicitly select the grouping columns after groupby to silence this warning.\n",
      "  sampled = group.groupby('conf_bin').apply(lambda x: x.sample(n=min(clips_por_especie_decil, len(x)), random_state=42)).reset_index(drop=True)\n",
      "/var/folders/_6/xzrhlh5s5yd6q142xlf57x4h0000gn/T/ipykernel_75026/3275535847.py:6: DeprecationWarning: DataFrameGroupBy.apply operated on the grouping columns. This behavior is deprecated, and in a future version of pandas the grouping columns will be excluded from the operation. Either pass `include_groups=False` to exclude the groupings or explicitly select the grouping columns after groupby to silence this warning.\n",
      "  sampled = group.groupby('conf_bin').apply(lambda x: x.sample(n=min(clips_por_especie_decil, len(x)), random_state=42)).reset_index(drop=True)\n"
     ]
    }
   ],
   "source": [
    "clips_por_especie_decil = 10\n",
    "\n",
    "for species, group in df_concat.groupby('speciesName'):\n",
    "    group = group.copy()\n",
    "    group['conf_bin'] = pd.qcut(group['confidence'], 10, labels=False, duplicates='drop')\n",
    "    sampled = group.groupby('conf_bin').apply(lambda x: x.sample(n=min(clips_por_especie_decil, len(x)), random_state=42)).reset_index(drop=True)\n",
    "\n",
    "    output_folder = \"./Detecciones_filtradas\"\n",
    "    species_folder = os.path.join(output_folder)\n",
    "    os.makedirs(species_folder, exist_ok=True)\n",
    "    del sampled['conf_bin']\n",
    "    output_path = os.path.join(species_folder, f\"{species}.csv\")\n",
    "    sampled.to_csv(output_path, index=False)"
   ]
  }
 ],
 "metadata": {
  "kernelspec": {
   "display_name": "song4",
   "language": "python",
   "name": "python3"
  },
  "language_info": {
   "codemirror_mode": {
    "name": "ipython",
    "version": 3
   },
   "file_extension": ".py",
   "mimetype": "text/x-python",
   "name": "python",
   "nbconvert_exporter": "python",
   "pygments_lexer": "ipython3",
   "version": "3.10.13"
  }
 },
 "nbformat": 4,
 "nbformat_minor": 5
}
